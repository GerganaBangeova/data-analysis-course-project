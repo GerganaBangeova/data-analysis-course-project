{
 "cells": [
  {
   "cell_type": "markdown",
   "id": "5289a2a2-d293-473c-ba4e-7f34eebca2f5",
   "metadata": {},
   "source": [
    "def calculate_sum_and_average(numbers_list):\n",
    "    \"\"\"\n",
    "    Изчислява сумата и средната стойност на числа в даден списък.\n",
    "\n",
    "    Аргументи:\n",
    "        numbers_list (list): Списък от числа (int или float).\n",
    "\n",
    "    Връща:\n",
    "        tuple: Кортеж, съдържащ (сума, средна_стойност).\n",
    "               Връща (0, 0) ако списъкът е празен, за да се избегне грешка.\n",
    "    \"\"\"\n",
    "    if not numbers_list:  # Проверка дали списъкът е празен\n",
    "        print(\"Предупреждение: Списъкът е празен.\")\n",
    "        return (0, 0)  # Връщаме (0,0) или може да върнем (None, None) или да генерираме грешка\n",
    "\n",
    "    total_sum = sum(numbers_list)\n",
    "    count = len(numbers_list)\n",
    "    average = total_sum / count\n",
    "\n",
    "    return (total_sum, average)\n",
    "\n",
    "# Пример за използване на функцията:\n",
    "my_numbers1 = [10, 20, 30, 40, 50]\n",
    "result1 = calculate_sum_and_average(my_numbers1)\n",
    "print(f\"За списък {my_numbers1}: Сума = {result1[0]}, Средна стойност = {result1[1]}\")\n",
    "\n",
    "my_numbers2 = [1.5, 2.5, 3.0]\n",
    "result2 = calculate_sum_and_average(my_numbers2)\n",
    "print(f\"За списък {my_numbers2}: Сума = {result2[0]}, Средна стойност = {result2[1]}\")\n",
    "\n",
    "empty_list = []\n",
    "result_empty = calculate_sum_and_average(empty_list)\n",
    "print(f\"За празен списък: Сума = {result_empty[0]}, Средна стойност = {result_empty[1]}\")\n",
    "\n",
    "# Опит за делене, ако не се справим с празен списък:\n",
    "# division_by_zero_list = []\n",
    "# total_sum_bad = sum(division_by_zero_list) # това е 0\n",
    "# count_bad = len(division_by_zero_list) # това е 0\n",
    "# average_bad = total_sum_bad / count_bad # ТОВА ЩЕ ДАДЕ ZeroDivisionError!"
   ]
  },
  {
   "cell_type": "code",
   "execution_count": 1,
   "id": "b8c356b9-cf61-464a-907b-40ce2ca4e64b",
   "metadata": {},
   "outputs": [
    {
     "name": "stdout",
     "output_type": "stream",
     "text": [
      "За списък [10, 20, 30, 40, 50]: Сума = 150, Средна стойност = 30.0\n",
      "За списък [1.5, 2.5, 3.0]: Сума = 7.0, Средна стойност = 2.3333333333333335\n",
      "Предупреждение: Списъкът е празен.\n",
      "За празен списък: Сума = 0, Средна стойност = 0\n"
     ]
    }
   ],
   "source": [
    "def calculate_sum_and_average(numbers_list):\n",
    "    \"\"\"\n",
    "    Изчислява сумата и средната стойност на числа в даден списък.\n",
    "\n",
    "    Аргументи:\n",
    "        numbers_list (list): Списък от числа (int или float).\n",
    "\n",
    "    Връща:\n",
    "        tuple: Кортеж, съдържащ (сума, средна_стойност).\n",
    "               Връща (0, 0) ако списъкът е празен, за да се избегне грешка.\n",
    "    \"\"\"\n",
    "    if not numbers_list:  # Проверка дали списъкът е празен\n",
    "        print(\"Предупреждение: Списъкът е празен.\")\n",
    "        return (0, 0)  # Връщаме (0,0) или може да върнем (None, None) или да генерираме грешка\n",
    "\n",
    "    total_sum = sum(numbers_list)\n",
    "    count = len(numbers_list)\n",
    "    average = total_sum / count\n",
    "\n",
    "    return (total_sum, average)\n",
    "\n",
    "# Пример за използване на функцията:\n",
    "my_numbers1 = [10, 20, 30, 40, 50]\n",
    "result1 = calculate_sum_and_average(my_numbers1)\n",
    "print(f\"За списък {my_numbers1}: Сума = {result1[0]}, Средна стойност = {result1[1]}\")\n",
    "\n",
    "my_numbers2 = [1.5, 2.5, 3.0]\n",
    "result2 = calculate_sum_and_average(my_numbers2)\n",
    "print(f\"За списък {my_numbers2}: Сума = {result2[0]}, Средна стойност = {result2[1]}\")\n",
    "\n",
    "empty_list = []\n",
    "result_empty = calculate_sum_and_average(empty_list)\n",
    "print(f\"За празен списък: Сума = {result_empty[0]}, Средна стойност = {result_empty[1]}\")\n",
    "\n",
    "# Опит за делене, ако не се справим с празен списък:\n",
    "# division_by_zero_list = []\n",
    "# total_sum_bad = sum(division_by_zero_list) # това е 0\n",
    "# count_bad = len(division_by_zero_list) # това е 0\n",
    "# average_bad = total_sum_bad / count_bad # ТОВА ЩЕ ДАДЕ ZeroDivisionError!"
   ]
  },
  {
   "cell_type": "markdown",
   "id": "f09ebb2f-aead-4c6c-8204-77bab841399d",
   "metadata": {},
   "source": [
    "# За сума:\n",
    "# my_list = [1, 2, 3, 4, 5]\n",
    "# list_sum = sum(my_list)\n",
    "# print(f\"Сумата е: {list_sum}\")\n",
    "\n",
    "# За средна стойност (с проверка):\n",
    "# my_list = [1, 2, 3, 4, 5]\n",
    "# if my_list:\n",
    "#     list_average = sum(my_list) / len(my_list)\n",
    "#     print(f\"Средната стойност е: {list_average}\")\n",
    "# else:\n",
    "#     print(\"Списъкът е празен, не може да се изчисли средна стойност.\")"
   ]
  },
  {
   "cell_type": "code",
   "execution_count": 7,
   "id": "89c4f196-51db-4327-a625-04bd5c460ded",
   "metadata": {},
   "outputs": [
    {
     "name": "stdout",
     "output_type": "stream",
     "text": [
      "Сумата е: 15\n",
      "Средната стойност е: 3.0\n"
     ]
    }
   ],
   "source": [
    "# За сума:\n",
    "my_list = [1, 2, 3, 4, 5]\n",
    "list_sum = sum(my_list)\n",
    "print(f\"Сумата е: {list_sum}\")\n",
    "\n",
    "# За средна стойност (с проверка):\n",
    "my_list = [1, 2, 3, 4, 5]\n",
    "if my_list:\n",
    "     list_average = sum(my_list) / len(my_list)\n",
    "     print(f\"Средната стойност е: {list_average}\")\n",
    "else:\n",
    "     print(\"Списъкът е празен, не може да се изчисли средна стойност.\")"
   ]
  },
  {
   "cell_type": "code",
   "execution_count": 8,
   "id": "d9ead3d5-6aee-4e6f-9d68-646814a928ed",
   "metadata": {},
   "outputs": [
    {
     "name": "stdout",
     "output_type": "stream",
     "text": [
      "В низа 'Hello World' има 3 гласни букви.\n",
      "В низа 'Python Programming is Fun!' има 6 гласни букви.\n",
      "В низа 'Rhythm' има 0 гласни букви.\n",
      "В празен низ има 0 гласни букви.\n",
      "Грешка: Очакваният вход е низ (string).\n",
      "За не-низ 123, резултатът е: 0\n"
     ]
    }
   ],
   "source": [
    "def count_vowels(input_string):\n",
    "    \"\"\"\n",
    "    Преброява гласните букви (a, e, i, o, u) в даден низ,\n",
    "    без значение от регистъра.\n",
    "\n",
    "    Аргументи:\n",
    "        input_string (str): Низът, който ще бъде анализиран.\n",
    "\n",
    "    Връща:\n",
    "        int: Броят на гласните букви в низа.\n",
    "    \"\"\"\n",
    "    vowels = \"aeiou\"\n",
    "    vowel_count = 0\n",
    "\n",
    "    if not isinstance(input_string, str):\n",
    "        print(\"Грешка: Очакваният вход е низ (string).\")\n",
    "        return 0 # Или None, или генерирай TypeError\n",
    "\n",
    "    for char in input_string.lower(): # Преобразуваме низа към малки букви за лесна проверка\n",
    "        if char in vowels:\n",
    "            vowel_count += 1\n",
    "            \n",
    "    return vowel_count\n",
    "\n",
    "# Примери за използване:\n",
    "string1 = \"Hello World\"\n",
    "count1 = count_vowels(string1)\n",
    "print(f\"В низа '{string1}' има {count1} гласни букви.\")\n",
    "\n",
    "string2 = \"Python Programming is Fun!\"\n",
    "count2 = count_vowels(string2)\n",
    "print(f\"В низа '{string2}' има {count2} гласни букви.\")\n",
    "\n",
    "string3 = \"Rhythm\" # Низ без гласни (според нашата дефиниция)\n",
    "count3 = count_vowels(string3)\n",
    "print(f\"В низа '{string3}' има {count3} гласни букви.\")\n",
    "\n",
    "string_empty = \"\"\n",
    "count_empty = count_vowels(string_empty)\n",
    "print(f\"В празен низ има {count_empty} гласни букви.\")\n",
    "\n",
    "not_a_string = 123\n",
    "count_invalid = count_vowels(not_a_string)\n",
    "print(f\"За не-низ {not_a_string}, резултатът е: {count_invalid}\")"
   ]
  },
  {
   "cell_type": "markdown",
   "id": "cb481bcd-4a01-4124-8fcb-0291ef001aad",
   "metadata": {},
   "source": [
    "По-проста алтернатива/често срещан подход (използвайки list comprehension и sum - малко по-напреднало, но компактно):"
   ]
  },
  {
   "cell_type": "code",
   "execution_count": 19,
   "id": "867e09a5-550d-4dc6-8872-ae3f17c0170d",
   "metadata": {},
   "outputs": [
    {
     "name": "stdout",
     "output_type": "stream",
     "text": [
      "В 'Alternative Approach' (с comprehension) има None гласни.\n"
     ]
    }
   ],
   "source": [
    "def count_vowels_comprehension(input_string):\n",
    "    if not isinstance(input_string, str):\n",
    "        print(\"Грешка: Очакваният вход е низ (string).\")\n",
    "        return 0\n",
    "        vowels = \"aeiou\"\n",
    "        return sum(1 for char in input_string.lower() if char in vowels)\n",
    "\n",
    "# # Пример\n",
    "string_comp = \"Alternative Approach\"\n",
    "count_comp = count_vowels_comprehension(string_comp)\n",
    "print(f\"В '{string_comp}' (с comprehension) има {count_comp} гласни.\")"
   ]
  },
  {
   "cell_type": "code",
   "execution_count": 20,
   "id": "f19db59e-a6b4-4c16-95f9-44f9fbc9c89f",
   "metadata": {},
   "outputs": [],
   "source": [
    "def find_min_max_from_input():\n",
    "    \"\"\"\n",
    "    Чете числа от потребителя, докато не бъде въведена думата \"стоп\".\n",
    "    Извежда най-малкото и най-голямото въведено число.\n",
    "    Справя се с невалиден вход.\n",
    "    \"\"\"\n",
    "    numbers = []\n",
    "    print(\"Въвеждайте числа. За край въведете 'стоп'.\")\n",
    "\n",
    "    while True:\n",
    "        user_input = input(\"Въведете число или 'стоп': \")\n",
    "\n",
    "        if user_input.lower() == 'стоп':\n",
    "            break # Излизаме от цикъла\n",
    "\n",
    "        try:\n",
    "            number = float(user_input) # Пробваме да преобразуваме към float, за да позволим и дробни числа\n",
    "            numbers.append(number)\n",
    "        except ValueError:\n",
    "            print(\"Невалиден вход. Моля, въведете число или 'стоп'.\")\n",
    "\n",
    "    if not numbers: # Проверяваме дали изобщо са въведени числа\n",
    "        print(\"Не са въведени числа.\")\n",
    "    else:\n",
    "        min_num = min(numbers)\n",
    "        max_num = max(numbers)\n",
    "        print(f\"Въведени числа: {numbers}\")\n",
    "        print(f\"Най-малкото въведено число е: {min_num}\")\n",
    "        print(f\"Най-голямото въведено число е: {max_num}\")\n",
    "\n",
    "# Извикване на функцията, за да стартира програмата\n",
    "# find_min_max_from_input() \n",
    "# Разкоментирай горния ред, за да тестваш в Jupyter. \n",
    "# Внимание: input() в Jupyter работи, но може да изглежда малко по-различно\n",
    "# отколкото в стандартен терминал. Ще се появи поле за въвеждане под клетката."
   ]
  },
  {
   "cell_type": "code",
   "execution_count": null,
   "id": "4011dcf8-d917-4a4a-8673-b5df3925b95a",
   "metadata": {},
   "outputs": [],
   "source": []
  },
  {
   "cell_type": "code",
   "execution_count": null,
   "id": "2b5f3f09-35b8-45d1-9436-0f74d0f0a4e3",
   "metadata": {},
   "outputs": [],
   "source": []
  }
 ],
 "metadata": {
  "kernelspec": {
   "display_name": "Python 3 (ipykernel)",
   "language": "python",
   "name": "python3"
  },
  "language_info": {
   "codemirror_mode": {
    "name": "ipython",
    "version": 3
   },
   "file_extension": ".py",
   "mimetype": "text/x-python",
   "name": "python",
   "nbconvert_exporter": "python",
   "pygments_lexer": "ipython3",
   "version": "3.13.2"
  }
 },
 "nbformat": 4,
 "nbformat_minor": 5
}

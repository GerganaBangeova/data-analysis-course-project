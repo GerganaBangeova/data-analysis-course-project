{
 "cells": [
  {
   "cell_type": "code",
   "execution_count": 1,
   "id": "bccb9a04-cd63-4629-a863-209bc45231f0",
   "metadata": {},
   "outputs": [
    {
     "name": "stdout",
     "output_type": "stream",
     "text": [
      "Здравей! Аз съм Гергана и започвам своето пътешествие в света на данните!\n",
      "Моите цели за този курс са:\n",
      "- Да стана добър Data Analyst\n",
      "- Да науча основите на Data Science\n",
      "- Да разбера Data Engineering и Data Architecture\n"
     ]
    }
   ],
   "source": [
    "name = \"Гергана\" # Замени с твоето име\n",
    "print(f\"Здравей! Аз съм {name} и започвам своето пътешествие в света на данните!\")\n",
    "course_goals = [\n",
    "    \"Да стана добър Data Analyst\",\n",
    "    \"Да науча основите на Data Science\",\n",
    "    \"Да разбера Data Engineering и Data Architecture\"\n",
    "]\n",
    "print(\"Моите цели за този курс са:\")\n",
    "for goal in course_goals:\n",
    "    print(f\"- {goal}\")"
   ]
  },
  {
   "cell_type": "code",
   "execution_count": null,
   "id": "1015add1-8f2e-46c5-a1c6-c86686404c21",
   "metadata": {},
   "outputs": [],
   "source": []
  }
 ],
 "metadata": {
  "kernelspec": {
   "display_name": "Python 3 (ipykernel)",
   "language": "python",
   "name": "python3"
  },
  "language_info": {
   "codemirror_mode": {
    "name": "ipython",
    "version": 3
   },
   "file_extension": ".py",
   "mimetype": "text/x-python",
   "name": "python",
   "nbconvert_exporter": "python",
   "pygments_lexer": "ipython3",
   "version": "3.13.2"
  }
 },
 "nbformat": 4,
 "nbformat_minor": 5
}

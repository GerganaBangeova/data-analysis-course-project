{
 "cells": [
  {
   "cell_type": "code",
   "execution_count": 6,
   "id": "68c93382-e22c-46c5-8df6-4b56486e0d7e",
   "metadata": {},
   "outputs": [
    {
     "name": "stdout",
     "output_type": "stream",
     "text": [
      "\n",
      "Обща сума на всички продажби: 18325.00\n",
      "\n",
      "Продажби по категории:\n",
      "- Електроника: 16400.00\n",
      "- Аксесоари: 1925.00\n"
     ]
    }
   ],
   "source": [
    "# Стъпка 1: Импортиране на необходими модули\n",
    "import csv \n",
    "\n",
    "# Стъпка 2: ДЕФИНИЦИЯ на функцията. Обърни внимание как ВСИЧКО след \"def\" е отместено навътре!\n",
    "def analyze_sales_from_csv(filepath):\n",
    "    \"\"\"\n",
    "    Чете данни за продажби от CSV файл и извършва изчисления.\n",
    "    \"\"\"\n",
    "    total_sales_all = 0.0\n",
    "    sales_by_category = {} \n",
    "\n",
    "    try:\n",
    "        # Тук също има отместване навътре, защото е вътре в \"try\"\n",
    "        with open(filepath, mode='r', newline='', encoding='utf-8') as csvfile:\n",
    "            # Още по-навътре, защото е вътре в \"with\"\n",
    "            csv_reader = csv.reader(csvfile, delimiter=',') \n",
    "            header = next(csv_reader, None)\n",
    "            \n",
    "            for row_number, row in enumerate(csv_reader, start=1):\n",
    "                # И още по-навътре, защото е вътре в \"for\" цикъла\n",
    "                try:\n",
    "                    # И т.н. ...\n",
    "                    quantity = int(row[2])\n",
    "                    unit_price = float(row[3])\n",
    "                    \n",
    "                    sale_amount = quantity * unit_price\n",
    "                    total_sales_all += sale_amount\n",
    "                    \n",
    "                    category = row[1]\n",
    "                    if category in sales_by_category:\n",
    "                        sales_by_category[category] += sale_amount\n",
    "                    else:\n",
    "                        sales_by_category[category] = sale_amount\n",
    "                except ValueError:\n",
    "                    print(f\"Грешка на ред {row_number}. Редът е пропуснат.\")\n",
    "                    \n",
    "    except FileNotFoundError:\n",
    "        print(f\"Грешка: Файлът '{filepath}' не е намерен.\")\n",
    "        return (0, {}) # Връщаме празни резултати при грешка\n",
    "\n",
    "    # Този return е отместен навън, за да е част от \"def\", а не от \"try\"\n",
    "    return (total_sales_all, sales_by_category)\n",
    "\n",
    "\n",
    "# --------------------------------------------------------------------------------------\n",
    "# Стъпка 3: ИЗВИКВАНЕ на функцията. Този код е ИЗВЪН функцията, затова НЕ Е отместен.\n",
    "# --------------------------------------------------------------------------------------\n",
    "\n",
    "# Път до нашия CSV файл\n",
    "csv_file_path = 'Просто упр. за python!.txt' \n",
    "total_sales, category_sales = analyze_sales_from_csv(csv_file_path) # Извикваме функцията, която дефинирахме горе\n",
    "\n",
    "print(f\"\\nОбща сума на всички продажби: {total_sales:.2f}\")\n",
    "\n",
    "print(\"\\nПродажби по категории:\")\n",
    "if category_sales:\n",
    "    for category, amount in category_sales.items():\n",
    "        print(f\"- {category}: {amount:.2f}\")\n",
    "else:\n",
    "    print(\"Няма данни за продажби по категории.\")"
   ]
  },
  {
   "cell_type": "code",
   "execution_count": null,
   "id": "be00731f-d665-4fb5-a13e-34de6d38f012",
   "metadata": {},
   "outputs": [],
   "source": []
  }
 ],
 "metadata": {
  "kernelspec": {
   "display_name": "Python 3 (ipykernel)",
   "language": "python",
   "name": "python3"
  },
  "language_info": {
   "codemirror_mode": {
    "name": "ipython",
    "version": 3
   },
   "file_extension": ".py",
   "mimetype": "text/x-python",
   "name": "python",
   "nbconvert_exporter": "python",
   "pygments_lexer": "ipython3",
   "version": "3.13.2"
  }
 },
 "nbformat": 4,
 "nbformat_minor": 5
}

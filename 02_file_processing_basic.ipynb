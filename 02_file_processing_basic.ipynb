{
 "cells": [
  {
   "cell_type": "code",
   "execution_count": 11,
   "id": "68c93382-e22c-46c5-8df6-4b56486e0d7e",
   "metadata": {},
   "outputs": [
    {
     "name": "stdout",
     "output_type": "stream",
     "text": [
      "\n",
      "Обща сума на всички продажби: 18325.00\n",
      "\n",
      "Продажби по категории:\n",
      "- Електроника: 16400.00\n",
      "- Аксесоари: 1925.00\n"
     ]
    }
   ],
   "source": [
    "# Стъпка 1: Импортиране на необходими модули\n",
    "import csv \n",
    "\n",
    "# Стъпка 2: ДЕФИНИЦИЯ на функцията. Обърни внимание как ВСИЧКО след \"def\" е отместено навътре!\n",
    "def analyze_sales_from_csv(filepath):\n",
    "    \"\"\"\n",
    "    Чете данни за продажби от CSV файл и извършва изчисления.\n",
    "    \"\"\"\n",
    "    total_sales_all = 0.0\n",
    "    sales_by_category = {} \n",
    "\n",
    "    try:\n",
    "        # Тук също има отместване навътре, защото е вътре в \"try\"\n",
    "        with open(filepath, mode='r', newline='', encoding='utf-8') as csvfile:\n",
    "            # Още по-навътре, защото е вътре в \"with\"\n",
    "            csv_reader = csv.reader(csvfile, delimiter=',') \n",
    "            header = next(csv_reader, None)\n",
    "            \n",
    "            for row_number, row in enumerate(csv_reader, start=1):\n",
    "                # И още по-навътре, защото е вътре в \"for\" цикъла\n",
    "                try:\n",
    "                    # И т.н. ...\n",
    "                    quantity = int(row[2])\n",
    "                    unit_price = float(row[3])\n",
    "                    \n",
    "                    sale_amount = quantity * unit_price\n",
    "                    total_sales_all += sale_amount\n",
    "                    \n",
    "                    category = row[1]\n",
    "                    if category in sales_by_category:\n",
    "                        sales_by_category[category] += sale_amount\n",
    "                    else:\n",
    "                        sales_by_category[category] = sale_amount\n",
    "                except ValueError:\n",
    "                    print(f\"Грешка на ред {row_number}. Редът е пропуснат.\")\n",
    "                    \n",
    "    except FileNotFoundError:\n",
    "        print(f\"Грешка: Файлът '{filepath}' не е намерен.\")\n",
    "        return (0, {}) # Връщаме празни резултати при грешка\n",
    "\n",
    "    # Този return е отместен навън, за да е част от \"def\", а не от \"try\"\n",
    "    return (total_sales_all, sales_by_category)\n",
    "\n",
    "\n",
    "# --------------------------------------------------------------------------------------\n",
    "# Стъпка 3: ИЗВИКВАНЕ на функцията. Този код е ИЗВЪН функцията, затова НЕ Е отместен.\n",
    "# --------------------------------------------------------------------------------------\n",
    "\n",
    "# Път до нашия CSV файл\n",
    "csv_file_path = 'Просто упр. за python!.txt' \n",
    "total_sales, category_sales = analyze_sales_from_csv(csv_file_path) # Извикваме функцията, която дефинирахме горе\n",
    "\n",
    "print(f\"\\nОбща сума на всички продажби: {total_sales:.2f}\")\n",
    "\n",
    "print(\"\\nПродажби по категории:\")\n",
    "if category_sales:\n",
    "    for category, amount in category_sales.items():\n",
    "        print(f\"- {category}: {amount:.2f}\")\n",
    "else:\n",
    "    print(\"Няма данни за продажби по категории.\")"
   ]
  },
  {
   "cell_type": "code",
   "execution_count": 12,
   "id": "be00731f-d665-4fb5-a13e-34de6d38f012",
   "metadata": {},
   "outputs": [
    {
     "name": "stdout",
     "output_type": "stream",
     "text": [
      "Заредени данни (първите 2 реда):\n",
      "[{'Продукт': 'Лаптоп', 'Категория': 'Електроника', 'Количество': 5, 'ЕдиничнаЦена': 1200.0}, {'Продукт': 'Мишка', 'Категория': 'Аксесоари', 'Количество': 20, 'ЕдиничнаЦена': 25.0}]\n"
     ]
    }
   ],
   "source": [
    "# Преди всичко импортираме csv модула, ако не сме го направили вече в notebook-a\n",
    "import csv\n",
    "\n",
    "def load_sales_data(filepath):\n",
    "    \"\"\"\n",
    "    Зарежда данни от CSV файл и ги връща като списък от речници.\n",
    "    Справя се с грешки при четене и преобразуване на типовете.\n",
    "    \"\"\"\n",
    "    data = [] # Празна листа, в която ще събираме речниците\n",
    "    try:\n",
    "        with open(filepath, mode='r', newline='', encoding='utf-8') as csvfile:\n",
    "            # DictReader автоматично използва първия ред за ключове (имена на колони)\n",
    "            reader = csv.DictReader(csvfile) \n",
    "            \n",
    "            for row_dict in reader:\n",
    "                try:\n",
    "                    # Преобразуваме числовите стойности към правилния тип\n",
    "                    row_dict['Количество'] = int(row_dict['Количество'])\n",
    "                    row_dict['ЕдиничнаЦена'] = float(row_dict['ЕдиничнаЦена'])\n",
    "                    data.append(row_dict)\n",
    "                except (ValueError, KeyError) as e:\n",
    "                    # ValueError: ако \"5\" не може да стане число\n",
    "                    # KeyError: ако колона \"Количество\" или \"ЕдиничнаЦена\" липсва в реда\n",
    "                    print(f\"Проблем с ред {row_dict}: {e}. Редът е пропуснат.\")\n",
    "\n",
    "    except FileNotFoundError:\n",
    "        print(f\"Грешка: Файлът '{filepath}' не е намерен.\")\n",
    "        \n",
    "    return data\n",
    "\n",
    "\n",
    "# --- Използване на функцията ---\n",
    "# Дефинираме пътя до нашия файл веднъж\n",
    "csv_file_path = 'Просто упр. за python!.txt'\n",
    "\n",
    "# Зареждаме данните веднъж и ги пазим в променлива\n",
    "sales_data = load_sales_data(csv_file_path)\n",
    "\n",
    "# Отпечатваме първите няколко реда, за да видим как изглеждат\n",
    "print(\"Заредени данни (първите 2 реда):\")\n",
    "print(sales_data[:2])"
   ]
  },
  {
   "cell_type": "code",
   "execution_count": 13,
   "id": "7a7c28c6-beaf-4f5d-aef3-a75242a7520d",
   "metadata": {},
   "outputs": [
    {
     "name": "stdout",
     "output_type": "stream",
     "text": [
      "\n",
      "Общият приход от всички продажби е: 18325.00\n"
     ]
    }
   ],
   "source": [
    "def calculate_total_sales(data):\n",
    "    \"\"\"Изчислява общата сума на всички продажби.\"\"\"\n",
    "    total = 0.0\n",
    "    for item in data:\n",
    "        # Изчисляваме сумата за реда и я добавяме към общата\n",
    "        sale_amount = item['Количество'] * item['ЕдиничнаЦена']\n",
    "        total += sale_amount\n",
    "    return total\n",
    "\n",
    "# --- Използване на функцията ---\n",
    "total_revenue = calculate_total_sales(sales_data)\n",
    "print(f\"\\nОбщият приход от всички продажби е: {total_revenue:.2f}\")"
   ]
  },
  {
   "cell_type": "code",
   "execution_count": 14,
   "id": "1326edbc-44a4-47a2-911f-350e8002095f",
   "metadata": {},
   "outputs": [
    {
     "name": "stdout",
     "output_type": "stream",
     "text": [
      "\n",
      "Продукти с единична цена над 500:\n",
      "['Лаптоп', 'Смартфон']\n"
     ]
    }
   ],
   "source": [
    "def find_products_above_price(data, price_threshold):\n",
    "    \"\"\"Намира всички продукти с единична цена над даден праг.\"\"\"\n",
    "    expensive_items = []\n",
    "    for item in data:\n",
    "        if item['ЕдиничнаЦена'] > price_threshold:\n",
    "            expensive_items.append(item['Продукт']) # Добавяме само името на продукта\n",
    "            \n",
    "    return expensive_items\n",
    "\n",
    "# --- Използване на функцията ---\n",
    "price_limit = 500\n",
    "costly_products = find_products_above_price(sales_data, price_limit)\n",
    "print(f\"\\nПродукти с единична цена над {price_limit}:\")\n",
    "print(costly_products)"
   ]
  },
  {
   "cell_type": "code",
   "execution_count": 15,
   "id": "36e91dfb-7190-4379-97e6-b2a8d9993a23",
   "metadata": {},
   "outputs": [
    {
     "name": "stdout",
     "output_type": "stream",
     "text": [
      "\n",
      "Най-скъпият продукт е: Лаптоп с цена 1200.00\n"
     ]
    }
   ],
   "source": [
    "def find_most_expensive_product(data):\n",
    "    \"\"\"\n",
    "    Намира най-скъпия продукт в данните.\n",
    "    Приема списък от речници.\n",
    "    \"\"\"\n",
    "    if not data: # Проверка дали имаме данни\n",
    "        return None\n",
    "\n",
    "    most_expensive = None\n",
    "    max_price = -1 # Започваме с много ниска цена\n",
    "\n",
    "    for item in data:\n",
    "        if item['ЕдиничнаЦена'] > max_price:\n",
    "            max_price = item['ЕдиничнаЦена']\n",
    "            most_expensive = item\n",
    "\n",
    "    return most_expensive\n",
    "\n",
    "# --- Използване на функцията ---\n",
    "expensive_product = find_most_expensive_product(sales_data) # Използваме вече заредените данни!\n",
    "\n",
    "if expensive_product:\n",
    "    print(f\"\\nНай-скъпият продукт е: {expensive_product['Продукт']} с цена {expensive_product['ЕдиничнаЦена']:.2f}\")\n",
    "else:\n",
    "    print(\"\\nНяма данни за продукти.\")"
   ]
  },
  {
   "cell_type": "code",
   "execution_count": 16,
   "id": "6b054923-0319-4238-ac4f-b0142cc240d4",
   "metadata": {},
   "outputs": [
    {
     "name": "stdout",
     "output_type": "stream",
     "text": [
      "\n",
      "Продукти в категория 'Електроника':\n",
      "- Лаптоп\n",
      "- Монитор\n",
      "- Смартфон\n"
     ]
    }
   ],
   "source": [
    "def filter_products_by_category(data, category_name):\n",
    "    \"\"\"\n",
    "    Връща списък само с продуктите от дадена категория.\n",
    "    \"\"\"\n",
    "    filtered_list = []\n",
    "    for item in data:\n",
    "        # Проверяваме категорията, без значение от малки/големи букви\n",
    "        if item['Категория'].lower() == category_name.lower():\n",
    "            filtered_list.append(item)\n",
    "    \n",
    "    return filtered_list\n",
    "\n",
    "# --- Използване на функцията ---\n",
    "category_to_find = 'Електроника'\n",
    "electronics_products = filter_products_by_category(sales_data, category_to_find)\n",
    "\n",
    "print(f\"\\nПродукти в категория '{category_to_find}':\")\n",
    "# Отпечатваме имената на намерените продукти\n",
    "for product in electronics_products:\n",
    "    print(f\"- {product['Продукт']}\")"
   ]
  },
  {
   "cell_type": "code",
   "execution_count": 17,
   "id": "7552e05d-34f1-4075-af6a-ea8d613bde04",
   "metadata": {},
   "outputs": [
    {
     "name": "stdout",
     "output_type": "stream",
     "text": [
      "Първите 5 реда от нашия DataFrame:\n"
     ]
    },
    {
     "data": {
      "text/html": [
       "<div>\n",
       "<style scoped>\n",
       "    .dataframe tbody tr th:only-of-type {\n",
       "        vertical-align: middle;\n",
       "    }\n",
       "\n",
       "    .dataframe tbody tr th {\n",
       "        vertical-align: top;\n",
       "    }\n",
       "\n",
       "    .dataframe thead th {\n",
       "        text-align: right;\n",
       "    }\n",
       "</style>\n",
       "<table border=\"1\" class=\"dataframe\">\n",
       "  <thead>\n",
       "    <tr style=\"text-align: right;\">\n",
       "      <th></th>\n",
       "      <th>Продукт</th>\n",
       "      <th>Категория</th>\n",
       "      <th>Количество</th>\n",
       "      <th>ЕдиничнаЦена</th>\n",
       "    </tr>\n",
       "  </thead>\n",
       "  <tbody>\n",
       "    <tr>\n",
       "      <th>0</th>\n",
       "      <td>Лаптоп</td>\n",
       "      <td>Електроника</td>\n",
       "      <td>5</td>\n",
       "      <td>1200</td>\n",
       "    </tr>\n",
       "    <tr>\n",
       "      <th>1</th>\n",
       "      <td>Мишка</td>\n",
       "      <td>Аксесоари</td>\n",
       "      <td>20</td>\n",
       "      <td>25</td>\n",
       "    </tr>\n",
       "    <tr>\n",
       "      <th>2</th>\n",
       "      <td>Клавиатура</td>\n",
       "      <td>Аксесоари</td>\n",
       "      <td>15</td>\n",
       "      <td>70</td>\n",
       "    </tr>\n",
       "    <tr>\n",
       "      <th>3</th>\n",
       "      <td>Монитор</td>\n",
       "      <td>Електроника</td>\n",
       "      <td>8</td>\n",
       "      <td>300</td>\n",
       "    </tr>\n",
       "    <tr>\n",
       "      <th>4</th>\n",
       "      <td>Смартфон</td>\n",
       "      <td>Електроника</td>\n",
       "      <td>10</td>\n",
       "      <td>800</td>\n",
       "    </tr>\n",
       "  </tbody>\n",
       "</table>\n",
       "</div>"
      ],
      "text/plain": [
       "      Продукт    Категория  Количество  ЕдиничнаЦена\n",
       "0      Лаптоп  Електроника           5          1200\n",
       "1       Мишка    Аксесоари          20            25\n",
       "2  Клавиатура    Аксесоари          15            70\n",
       "3     Монитор  Електроника           8           300\n",
       "4    Смартфон  Електроника          10           800"
      ]
     },
     "execution_count": 17,
     "metadata": {},
     "output_type": "execute_result"
    }
   ],
   "source": [
    "import pandas as pd\n",
    "csv_file_path = \"Просто упр. за python!.txt\"\n",
    "df = pd.read_csv(csv_file_path)\n",
    "print(\"Първите 5 реда от нашия DataFrame:\")\n",
    "df.head()"
   ]
  },
  {
   "cell_type": "code",
   "execution_count": 24,
   "id": "86b2e14b-e380-4ba2-a34b-f527aebcdf5d",
   "metadata": {},
   "outputs": [
    {
     "name": "stdout",
     "output_type": "stream",
     "text": [
      "Информация за DateFrame-a:\n",
      "<class 'pandas.core.frame.DataFrame'>\n",
      "RangeIndex: 6 entries, 0 to 5\n",
      "Data columns (total 5 columns):\n",
      " #   Column        Non-Null Count  Dtype \n",
      "---  ------        --------------  ----- \n",
      " 0   Продукт       6 non-null      object\n",
      " 1   Категория     6 non-null      object\n",
      " 2   Количество    6 non-null      int64 \n",
      " 3   ЕдиничнаЦена  6 non-null      int64 \n",
      " 4   Обща сума     6 non-null      int64 \n",
      "dtypes: int64(3), object(2)\n",
      "memory usage: 372.0+ bytes\n",
      "\n",
      "--- Основни описателни статистики за числовите колони: ---\n",
      "       Количество  ЕдиничнаЦена    Обща сума\n",
      "count    6.000000      6.000000     6.000000\n",
      "mean    13.833333    401.666667  3054.166667\n",
      "std      7.626707    491.473974  3202.671411\n",
      "min      5.000000     15.000000   375.000000\n",
      "25%      8.500000     36.250000   637.500000\n",
      "50%     12.500000    185.000000  1725.000000\n",
      "75%     18.750000    675.000000  5100.000000\n",
      "max     25.000000   1200.000000  8000.000000\n",
      "\n",
      "Общият приход (изчислен с Pandas) е: 18325.00\n",
      "\n",
      "Най-скъпият продукт (намерен с Pandas):\n",
      "  Продукт    Категория  Количество  ЕдиничнаЦена  Обща сума\n",
      "0  Лаптоп  Електроника           5          1200       6000\n",
      "\n",
      "Продукти в категория 'Електроника' (филтрирани с Pandas):\n",
      "    Продукт    Категория  Количество  ЕдиничнаЦена  Обща сума\n",
      "0    Лаптоп  Електроника           5          1200       6000\n",
      "3   Монитор  Електроника           8           300       2400\n",
      "4  Смартфон  Електроника          10           800       8000\n"
     ]
    }
   ],
   "source": [
    "print(\"Информация за DateFrame-a:\")\n",
    "df.info()\n",
    "print(\"\\n--- Основни описателни статистики за числовите колони: ---\")\n",
    "print(df.describe()) # Дали това трябва винаги да е в скоби?\n",
    "df[\"Обща сума\"] = df[\"Количество\"] * df[\"ЕдиничнаЦена\"] # Мога ли да пиша имената на колоните по друг начин, има ли някакво падащо меню?\n",
    "total_revenue_pandas =df[\"Обща сума\"].sum()\n",
    "print(f\"\\nОбщият приход (изчислен с Pandas) е: {total_revenue_pandas:.2f}\")\n",
    "most_expensive_pandas = df.sort_values(by=\"ЕдиничнаЦена\", ascending = False).head(1) # Важно ли е д асе пише False?\n",
    "print(\"\\nНай-скъпият продукт (намерен с Pandas):\")\n",
    "print(most_expensive_pandas)\n",
    "electronics_df = df[df['Категория'] == 'Електроника'] #Тук за какво служи ==\n",
    "print(\"\\nПродукти в категория 'Електроника' (филтрирани с Pandas):\")\n",
    "print(electronics_df)\n",
    "\n"
   ]
  },
  {
   "cell_type": "code",
   "execution_count": 25,
   "id": "4172fd7b-7d75-4040-9c16-11572a9e0c00",
   "metadata": {},
   "outputs": [
    {
     "ename": "KeyError",
     "evalue": "\"['ОбщаСума'] not in index\"",
     "output_type": "error",
     "traceback": [
      "\u001b[31m---------------------------------------------------------------------------\u001b[39m",
      "\u001b[31mKeyError\u001b[39m                                  Traceback (most recent call last)",
      "\u001b[36mCell\u001b[39m\u001b[36m \u001b[39m\u001b[32mIn[25]\u001b[39m\u001b[32m, line 2\u001b[39m\n\u001b[32m      1\u001b[39m \u001b[38;5;66;03m# Да вземем само колоните за Продукт, Категория и ОбщаСума\u001b[39;00m\n\u001b[32m----> \u001b[39m\u001b[32m2\u001b[39m subset_df = \u001b[43mdf\u001b[49m\u001b[43m[\u001b[49m\u001b[43m[\u001b[49m\u001b[33;43m'\u001b[39;49m\u001b[33;43mПродукт\u001b[39;49m\u001b[33;43m'\u001b[39;49m\u001b[43m,\u001b[49m\u001b[43m \u001b[49m\u001b[33;43m'\u001b[39;49m\u001b[33;43mКатегория\u001b[39;49m\u001b[33;43m'\u001b[39;49m\u001b[43m,\u001b[49m\u001b[43m \u001b[49m\u001b[33;43m'\u001b[39;49m\u001b[33;43mОбщаСума\u001b[39;49m\u001b[33;43m'\u001b[39;49m\u001b[43m]\u001b[49m\u001b[43m]\u001b[49m\n\u001b[32m      3\u001b[39m \u001b[38;5;28mprint\u001b[39m(\u001b[33m\"\u001b[39m\u001b[33mПодмножество от DataFrame-а:\u001b[39m\u001b[33m\"\u001b[39m)\n\u001b[32m      4\u001b[39m \u001b[38;5;28mprint\u001b[39m(subset_df.head())\n",
      "\u001b[36mFile \u001b[39m\u001b[32m~\\AppData\\Local\\Programs\\Python\\Python313\\Lib\\site-packages\\pandas\\core\\frame.py:4108\u001b[39m, in \u001b[36mDataFrame.__getitem__\u001b[39m\u001b[34m(self, key)\u001b[39m\n\u001b[32m   4106\u001b[39m     \u001b[38;5;28;01mif\u001b[39;00m is_iterator(key):\n\u001b[32m   4107\u001b[39m         key = \u001b[38;5;28mlist\u001b[39m(key)\n\u001b[32m-> \u001b[39m\u001b[32m4108\u001b[39m     indexer = \u001b[38;5;28;43mself\u001b[39;49m\u001b[43m.\u001b[49m\u001b[43mcolumns\u001b[49m\u001b[43m.\u001b[49m\u001b[43m_get_indexer_strict\u001b[49m\u001b[43m(\u001b[49m\u001b[43mkey\u001b[49m\u001b[43m,\u001b[49m\u001b[43m \u001b[49m\u001b[33;43m\"\u001b[39;49m\u001b[33;43mcolumns\u001b[39;49m\u001b[33;43m\"\u001b[39;49m\u001b[43m)\u001b[49m[\u001b[32m1\u001b[39m]\n\u001b[32m   4110\u001b[39m \u001b[38;5;66;03m# take() does not accept boolean indexers\u001b[39;00m\n\u001b[32m   4111\u001b[39m \u001b[38;5;28;01mif\u001b[39;00m \u001b[38;5;28mgetattr\u001b[39m(indexer, \u001b[33m\"\u001b[39m\u001b[33mdtype\u001b[39m\u001b[33m\"\u001b[39m, \u001b[38;5;28;01mNone\u001b[39;00m) == \u001b[38;5;28mbool\u001b[39m:\n",
      "\u001b[36mFile \u001b[39m\u001b[32m~\\AppData\\Local\\Programs\\Python\\Python313\\Lib\\site-packages\\pandas\\core\\indexes\\base.py:6200\u001b[39m, in \u001b[36mIndex._get_indexer_strict\u001b[39m\u001b[34m(self, key, axis_name)\u001b[39m\n\u001b[32m   6197\u001b[39m \u001b[38;5;28;01melse\u001b[39;00m:\n\u001b[32m   6198\u001b[39m     keyarr, indexer, new_indexer = \u001b[38;5;28mself\u001b[39m._reindex_non_unique(keyarr)\n\u001b[32m-> \u001b[39m\u001b[32m6200\u001b[39m \u001b[38;5;28;43mself\u001b[39;49m\u001b[43m.\u001b[49m\u001b[43m_raise_if_missing\u001b[49m\u001b[43m(\u001b[49m\u001b[43mkeyarr\u001b[49m\u001b[43m,\u001b[49m\u001b[43m \u001b[49m\u001b[43mindexer\u001b[49m\u001b[43m,\u001b[49m\u001b[43m \u001b[49m\u001b[43maxis_name\u001b[49m\u001b[43m)\u001b[49m\n\u001b[32m   6202\u001b[39m keyarr = \u001b[38;5;28mself\u001b[39m.take(indexer)\n\u001b[32m   6203\u001b[39m \u001b[38;5;28;01mif\u001b[39;00m \u001b[38;5;28misinstance\u001b[39m(key, Index):\n\u001b[32m   6204\u001b[39m     \u001b[38;5;66;03m# GH 42790 - Preserve name from an Index\u001b[39;00m\n",
      "\u001b[36mFile \u001b[39m\u001b[32m~\\AppData\\Local\\Programs\\Python\\Python313\\Lib\\site-packages\\pandas\\core\\indexes\\base.py:6252\u001b[39m, in \u001b[36mIndex._raise_if_missing\u001b[39m\u001b[34m(self, key, indexer, axis_name)\u001b[39m\n\u001b[32m   6249\u001b[39m     \u001b[38;5;28;01mraise\u001b[39;00m \u001b[38;5;167;01mKeyError\u001b[39;00m(\u001b[33mf\u001b[39m\u001b[33m\"\u001b[39m\u001b[33mNone of [\u001b[39m\u001b[38;5;132;01m{\u001b[39;00mkey\u001b[38;5;132;01m}\u001b[39;00m\u001b[33m] are in the [\u001b[39m\u001b[38;5;132;01m{\u001b[39;00maxis_name\u001b[38;5;132;01m}\u001b[39;00m\u001b[33m]\u001b[39m\u001b[33m\"\u001b[39m)\n\u001b[32m   6251\u001b[39m not_found = \u001b[38;5;28mlist\u001b[39m(ensure_index(key)[missing_mask.nonzero()[\u001b[32m0\u001b[39m]].unique())\n\u001b[32m-> \u001b[39m\u001b[32m6252\u001b[39m \u001b[38;5;28;01mraise\u001b[39;00m \u001b[38;5;167;01mKeyError\u001b[39;00m(\u001b[33mf\u001b[39m\u001b[33m\"\u001b[39m\u001b[38;5;132;01m{\u001b[39;00mnot_found\u001b[38;5;132;01m}\u001b[39;00m\u001b[33m not in index\u001b[39m\u001b[33m\"\u001b[39m)\n",
      "\u001b[31mKeyError\u001b[39m: \"['ОбщаСума'] not in index\""
     ]
    }
   ],
   "source": [
    "# Да вземем само колоните за Продукт, Категория и ОбщаСума\n",
    "subset_df = df[['Продукт', 'Категория', 'ОбщаСума']]\n",
    "print(\"Подмножество от DataFrame-а:\")\n",
    "print(subset_df.head())"
   ]
  },
  {
   "cell_type": "code",
   "execution_count": null,
   "id": "5458b17e-7c32-4f1d-a008-26d9ea844b9e",
   "metadata": {},
   "outputs": [],
   "source": []
  }
 ],
 "metadata": {
  "kernelspec": {
   "display_name": "Python 3 (ipykernel)",
   "language": "python",
   "name": "python3"
  },
  "language_info": {
   "codemirror_mode": {
    "name": "ipython",
    "version": 3
   },
   "file_extension": ".py",
   "mimetype": "text/x-python",
   "name": "python",
   "nbconvert_exporter": "python",
   "pygments_lexer": "ipython3",
   "version": "3.13.2"
  }
 },
 "nbformat": 4,
 "nbformat_minor": 5
}
